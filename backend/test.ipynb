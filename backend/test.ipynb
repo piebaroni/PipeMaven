{
 "cells": [
  {
   "cell_type": "code",
   "execution_count": 1,
   "metadata": {},
   "outputs": [],
   "source": [
    "import pandas as pd\n",
    "import os\n",
    "import json"
   ]
  },
  {
   "cell_type": "code",
   "execution_count": 2,
   "metadata": {},
   "outputs": [],
   "source": [
    "df = pd.read_csv(r'C:\\Users\\rocci\\OneDrive\\Desktop\\Università\\TesiMagistrale\\dataPreparationTool\\backend\\dataset.csv')"
   ]
  },
  {
   "cell_type": "code",
   "execution_count": 7,
   "metadata": {},
   "outputs": [],
   "source": [
    "def exec_operation(operation, df4):\n",
    "   df4 = eval('df4.' + operation)\n",
    "   print(df4.head())\n",
    "   return df4\n",
    "\n",
    "\n",
    "\n",
    "def exec_pipeline(operations):\n",
    "   df = pd.read_csv(r'C:\\Users\\rocci\\OneDrive\\Desktop\\Università\\TesiMagistrale\\dataPreparationTool\\backend\\dataset.csv')\n",
    "   for operation in operations:\n",
    "      df = exec_operation(operation, df)\n",
    "   return df"
   ]
  },
  {
   "cell_type": "code",
   "execution_count": 8,
   "metadata": {},
   "outputs": [
    {
     "name": "stdout",
     "output_type": "stream",
     "text": [
      "   Score\n",
      "0   75.5\n",
      "1   71.6\n",
      "2   67.8\n",
      "3   60.5\n",
      "4   32.1\n",
      "   Score\n",
      "0   76.5\n",
      "1   72.6\n",
      "2   68.8\n",
      "3   61.5\n",
      "4   33.1\n"
     ]
    }
   ],
   "source": [
    "lista = ['select_dtypes(include=\"float64\")', 'add(1)']\n",
    "df2 = exec_pipeline(lista)"
   ]
  },
  {
   "cell_type": "code",
   "execution_count": 120,
   "metadata": {},
   "outputs": [
    {
     "name": "stdout",
     "output_type": "stream",
     "text": [
      "df.add(1)\n"
     ]
    }
   ],
   "source": [
    "function = 'df.' + 'add' + '(' + \"1\" + ')'\n",
    "print(function)"
   ]
  },
  {
   "cell_type": "code",
   "execution_count": 132,
   "metadata": {},
   "outputs": [
    {
     "ename": "TypeError",
     "evalue": "can only concatenate str (not \"int\") to str",
     "output_type": "error",
     "traceback": [
      "\u001b[1;31m---------------------------------------------------------------------------\u001b[0m",
      "\u001b[1;31mTypeError\u001b[0m                                 Traceback (most recent call last)",
      "File \u001b[1;32mc:\\Users\\rocci\\AppData\\Local\\Programs\\Python\\Python38\\lib\\site-packages\\pandas\\core\\ops\\array_ops.py:165\u001b[0m, in \u001b[0;36m_na_arithmetic_op\u001b[1;34m(left, right, op, is_cmp)\u001b[0m\n\u001b[0;32m    164\u001b[0m \u001b[39mtry\u001b[39;00m:\n\u001b[1;32m--> 165\u001b[0m     result \u001b[39m=\u001b[39m func(left, right)\n\u001b[0;32m    166\u001b[0m \u001b[39mexcept\u001b[39;00m \u001b[39mTypeError\u001b[39;00m:\n",
      "File \u001b[1;32mc:\\Users\\rocci\\AppData\\Local\\Programs\\Python\\Python38\\lib\\site-packages\\pandas\\core\\computation\\expressions.py:241\u001b[0m, in \u001b[0;36mevaluate\u001b[1;34m(op, a, b, use_numexpr)\u001b[0m\n\u001b[0;32m    239\u001b[0m     \u001b[39mif\u001b[39;00m use_numexpr:\n\u001b[0;32m    240\u001b[0m         \u001b[39m# error: \"None\" not callable\u001b[39;00m\n\u001b[1;32m--> 241\u001b[0m         \u001b[39mreturn\u001b[39;00m _evaluate(op, op_str, a, b)  \u001b[39m# type: ignore[misc]\u001b[39;00m\n\u001b[0;32m    242\u001b[0m \u001b[39mreturn\u001b[39;00m _evaluate_standard(op, op_str, a, b)\n",
      "File \u001b[1;32mc:\\Users\\rocci\\AppData\\Local\\Programs\\Python\\Python38\\lib\\site-packages\\pandas\\core\\computation\\expressions.py:70\u001b[0m, in \u001b[0;36m_evaluate_standard\u001b[1;34m(op, op_str, a, b)\u001b[0m\n\u001b[0;32m     69\u001b[0m     _store_test_result(\u001b[39mFalse\u001b[39;00m)\n\u001b[1;32m---> 70\u001b[0m \u001b[39mreturn\u001b[39;00m op(a, b)\n",
      "\u001b[1;31mTypeError\u001b[0m: can only concatenate str (not \"int\") to str",
      "\nDuring handling of the above exception, another exception occurred:\n",
      "\u001b[1;31mTypeError\u001b[0m                                 Traceback (most recent call last)",
      "\u001b[1;32mc:\\Users\\rocci\\OneDrive\\Desktop\\Università\\TesiMagistrale\\dataPreparationTool\\backend\\test.ipynb Cella 7\u001b[0m line \u001b[0;36m1\n\u001b[1;32m----> <a href='vscode-notebook-cell:/c%3A/Users/rocci/OneDrive/Desktop/Universit%C3%A0/TesiMagistrale/dataPreparationTool/backend/test.ipynb#W3sZmlsZQ%3D%3D?line=0'>1</a>\u001b[0m \u001b[39meval\u001b[39;49m(\u001b[39m'\u001b[39;49m\u001b[39mdf.add(\u001b[39;49m\u001b[39m'\u001b[39;49m \u001b[39m+\u001b[39;49m \u001b[39m\"\u001b[39;49m\u001b[39m1\u001b[39;49m\u001b[39m\"\u001b[39;49m \u001b[39m+\u001b[39;49m \u001b[39m'\u001b[39;49m\u001b[39m)\u001b[39;49m\u001b[39m'\u001b[39;49m)\n",
      "File \u001b[1;32m<string>:1\u001b[0m\n",
      "File \u001b[1;32mc:\\Users\\rocci\\AppData\\Local\\Programs\\Python\\Python38\\lib\\site-packages\\pandas\\core\\ops\\__init__.py:449\u001b[0m, in \u001b[0;36mflex_arith_method_FRAME.<locals>.f\u001b[1;34m(self, other, axis, level, fill_value)\u001b[0m\n\u001b[0;32m    446\u001b[0m     \u001b[39mif\u001b[39;00m fill_value \u001b[39mis\u001b[39;00m \u001b[39mnot\u001b[39;00m \u001b[39mNone\u001b[39;00m:\n\u001b[0;32m    447\u001b[0m         \u001b[39mself\u001b[39m \u001b[39m=\u001b[39m \u001b[39mself\u001b[39m\u001b[39m.\u001b[39mfillna(fill_value)\n\u001b[1;32m--> 449\u001b[0m     new_data \u001b[39m=\u001b[39m \u001b[39mself\u001b[39;49m\u001b[39m.\u001b[39;49m_dispatch_frame_op(other, op)\n\u001b[0;32m    451\u001b[0m \u001b[39mreturn\u001b[39;00m \u001b[39mself\u001b[39m\u001b[39m.\u001b[39m_construct_result(new_data)\n",
      "File \u001b[1;32mc:\\Users\\rocci\\AppData\\Local\\Programs\\Python\\Python38\\lib\\site-packages\\pandas\\core\\frame.py:7621\u001b[0m, in \u001b[0;36mDataFrame._dispatch_frame_op\u001b[1;34m(self, right, func, axis)\u001b[0m\n\u001b[0;32m   7618\u001b[0m \u001b[39mif\u001b[39;00m \u001b[39mnot\u001b[39;00m is_list_like(right):\n\u001b[0;32m   7619\u001b[0m     \u001b[39m# i.e. scalar, faster than checking np.ndim(right) == 0\u001b[39;00m\n\u001b[0;32m   7620\u001b[0m     \u001b[39mwith\u001b[39;00m np\u001b[39m.\u001b[39merrstate(\u001b[39mall\u001b[39m\u001b[39m=\u001b[39m\u001b[39m\"\u001b[39m\u001b[39mignore\u001b[39m\u001b[39m\"\u001b[39m):\n\u001b[1;32m-> 7621\u001b[0m         bm \u001b[39m=\u001b[39m \u001b[39mself\u001b[39;49m\u001b[39m.\u001b[39;49m_mgr\u001b[39m.\u001b[39;49mapply(array_op, right\u001b[39m=\u001b[39;49mright)\n\u001b[0;32m   7622\u001b[0m     \u001b[39mreturn\u001b[39;00m \u001b[39mself\u001b[39m\u001b[39m.\u001b[39m_constructor(bm)\n\u001b[0;32m   7624\u001b[0m \u001b[39melif\u001b[39;00m \u001b[39misinstance\u001b[39m(right, DataFrame):\n",
      "File \u001b[1;32mc:\\Users\\rocci\\AppData\\Local\\Programs\\Python\\Python38\\lib\\site-packages\\pandas\\core\\internals\\managers.py:350\u001b[0m, in \u001b[0;36mBaseBlockManager.apply\u001b[1;34m(self, f, align_keys, ignore_failures, **kwargs)\u001b[0m\n\u001b[0;32m    348\u001b[0m \u001b[39mtry\u001b[39;00m:\n\u001b[0;32m    349\u001b[0m     \u001b[39mif\u001b[39;00m callable(f):\n\u001b[1;32m--> 350\u001b[0m         applied \u001b[39m=\u001b[39m b\u001b[39m.\u001b[39;49mapply(f, \u001b[39m*\u001b[39;49m\u001b[39m*\u001b[39;49mkwargs)\n\u001b[0;32m    351\u001b[0m     \u001b[39melse\u001b[39;00m:\n\u001b[0;32m    352\u001b[0m         applied \u001b[39m=\u001b[39m \u001b[39mgetattr\u001b[39m(b, f)(\u001b[39m*\u001b[39m\u001b[39m*\u001b[39mkwargs)\n",
      "File \u001b[1;32mc:\\Users\\rocci\\AppData\\Local\\Programs\\Python\\Python38\\lib\\site-packages\\pandas\\core\\internals\\blocks.py:351\u001b[0m, in \u001b[0;36mBlock.apply\u001b[1;34m(self, func, **kwargs)\u001b[0m\n\u001b[0;32m    345\u001b[0m \u001b[39m@final\u001b[39m\n\u001b[0;32m    346\u001b[0m \u001b[39mdef\u001b[39;00m \u001b[39mapply\u001b[39m(\u001b[39mself\u001b[39m, func, \u001b[39m*\u001b[39m\u001b[39m*\u001b[39mkwargs) \u001b[39m-\u001b[39m\u001b[39m>\u001b[39m \u001b[39mlist\u001b[39m[Block]:\n\u001b[0;32m    347\u001b[0m \u001b[39m    \u001b[39m\u001b[39m\"\"\"\u001b[39;00m\n\u001b[0;32m    348\u001b[0m \u001b[39m    apply the function to my values; return a block if we are not\u001b[39;00m\n\u001b[0;32m    349\u001b[0m \u001b[39m    one\u001b[39;00m\n\u001b[0;32m    350\u001b[0m \u001b[39m    \"\"\"\u001b[39;00m\n\u001b[1;32m--> 351\u001b[0m     result \u001b[39m=\u001b[39m func(\u001b[39mself\u001b[39;49m\u001b[39m.\u001b[39;49mvalues, \u001b[39m*\u001b[39;49m\u001b[39m*\u001b[39;49mkwargs)\n\u001b[0;32m    353\u001b[0m     \u001b[39mreturn\u001b[39;00m \u001b[39mself\u001b[39m\u001b[39m.\u001b[39m_split_op_result(result)\n",
      "File \u001b[1;32mc:\\Users\\rocci\\AppData\\Local\\Programs\\Python\\Python38\\lib\\site-packages\\pandas\\core\\ops\\array_ops.py:226\u001b[0m, in \u001b[0;36marithmetic_op\u001b[1;34m(left, right, op)\u001b[0m\n\u001b[0;32m    222\u001b[0m     _bool_arith_check(op, left, right)\n\u001b[0;32m    224\u001b[0m     \u001b[39m# error: Argument 1 to \"_na_arithmetic_op\" has incompatible type\u001b[39;00m\n\u001b[0;32m    225\u001b[0m     \u001b[39m# \"Union[ExtensionArray, ndarray[Any, Any]]\"; expected \"ndarray[Any, Any]\"\u001b[39;00m\n\u001b[1;32m--> 226\u001b[0m     res_values \u001b[39m=\u001b[39m _na_arithmetic_op(left, right, op)  \u001b[39m# type: ignore[arg-type]\u001b[39;00m\n\u001b[0;32m    228\u001b[0m \u001b[39mreturn\u001b[39;00m res_values\n",
      "File \u001b[1;32mc:\\Users\\rocci\\AppData\\Local\\Programs\\Python\\Python38\\lib\\site-packages\\pandas\\core\\ops\\array_ops.py:172\u001b[0m, in \u001b[0;36m_na_arithmetic_op\u001b[1;34m(left, right, op, is_cmp)\u001b[0m\n\u001b[0;32m    166\u001b[0m \u001b[39mexcept\u001b[39;00m \u001b[39mTypeError\u001b[39;00m:\n\u001b[0;32m    167\u001b[0m     \u001b[39mif\u001b[39;00m \u001b[39mnot\u001b[39;00m is_cmp \u001b[39mand\u001b[39;00m (is_object_dtype(left\u001b[39m.\u001b[39mdtype) \u001b[39mor\u001b[39;00m is_object_dtype(right)):\n\u001b[0;32m    168\u001b[0m         \u001b[39m# For object dtype, fallback to a masked operation (only operating\u001b[39;00m\n\u001b[0;32m    169\u001b[0m         \u001b[39m#  on the non-missing values)\u001b[39;00m\n\u001b[0;32m    170\u001b[0m         \u001b[39m# Don't do this for comparisons, as that will handle complex numbers\u001b[39;00m\n\u001b[0;32m    171\u001b[0m         \u001b[39m#  incorrectly, see GH#32047\u001b[39;00m\n\u001b[1;32m--> 172\u001b[0m         result \u001b[39m=\u001b[39m _masked_arith_op(left, right, op)\n\u001b[0;32m    173\u001b[0m     \u001b[39melse\u001b[39;00m:\n\u001b[0;32m    174\u001b[0m         \u001b[39mraise\u001b[39;00m\n",
      "File \u001b[1;32mc:\\Users\\rocci\\AppData\\Local\\Programs\\Python\\Python38\\lib\\site-packages\\pandas\\core\\ops\\array_ops.py:129\u001b[0m, in \u001b[0;36m_masked_arith_op\u001b[1;34m(x, y, op)\u001b[0m\n\u001b[0;32m    126\u001b[0m         mask \u001b[39m=\u001b[39m np\u001b[39m.\u001b[39mwhere(y \u001b[39m==\u001b[39m \u001b[39m1\u001b[39m, \u001b[39mFalse\u001b[39;00m, mask)\n\u001b[0;32m    128\u001b[0m     \u001b[39mif\u001b[39;00m mask\u001b[39m.\u001b[39many():\n\u001b[1;32m--> 129\u001b[0m         result[mask] \u001b[39m=\u001b[39m op(xrav[mask], y)\n\u001b[0;32m    131\u001b[0m np\u001b[39m.\u001b[39mputmask(result, \u001b[39m~\u001b[39mmask, np\u001b[39m.\u001b[39mnan)\n\u001b[0;32m    132\u001b[0m result \u001b[39m=\u001b[39m result\u001b[39m.\u001b[39mreshape(x\u001b[39m.\u001b[39mshape)  \u001b[39m# 2D compat\u001b[39;00m\n",
      "\u001b[1;31mTypeError\u001b[0m: can only concatenate str (not \"int\") to str"
     ]
    }
   ],
   "source": [
    "eval('df.add(' + \"1\" + ')')"
   ]
  }
 ],
 "metadata": {
  "kernelspec": {
   "display_name": "Python 3",
   "language": "python",
   "name": "python3"
  },
  "language_info": {
   "codemirror_mode": {
    "name": "ipython",
    "version": 3
   },
   "file_extension": ".py",
   "mimetype": "text/x-python",
   "name": "python",
   "nbconvert_exporter": "python",
   "pygments_lexer": "ipython3",
   "version": "3.8.10"
  },
  "orig_nbformat": 4
 },
 "nbformat": 4,
 "nbformat_minor": 2
}
